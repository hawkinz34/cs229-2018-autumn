{
 "cells": [
  {
   "cell_type": "code",
   "execution_count": 730,
   "metadata": {},
   "outputs": [],
   "source": [
    "import numpy as np\n",
    "import math\n",
    "import src.util as util\n",
    "\n",
    "from src.linear_model import LinearModel\n",
    "\n",
    "\n",
    "def main(train_path, eval_path, pred_path):\n",
    "    \"\"\"Problem 1(b): Logistic regression with Newton's Method.\n",
    "\n",
    "    Args:\n",
    "        train_path: Path to CSV file containing dataset for training.\n",
    "        eval_path: Path to CSV file containing dataset for evaluation.\n",
    "        pred_path: Path to save predictions.\n",
    "    \"\"\"\n",
    "    x_train, y_train = util.load_dataset(train_path, add_intercept=True)\n",
    "    x_valid, y_valid = util.load_dataset(eval_path, add_intercept=True)\n",
    "\n",
    "    # *** START CODE HERE ***\n",
    "    return x_train, y_train, x_valid, y_valid\n",
    "    # *** END CODE HERE ***\n",
    "\n",
    "\n",
    "class LogisticRegression(LinearModel):\n",
    "    \"\"\"Logistic regression with Newton's Method as the solver.\n",
    "\n",
    "    Example usage:\n",
    "        > clf = LogisticRegression()\n",
    "        > clf.fit(x_train, y_train)\n",
    "        > clf.predict(x_eval)\n",
    "    \"\"\"        \n",
    "    def fit(self, x, y):\n",
    "        \"\"\"Run Newton's Method to minimize J(theta) for logistic regression.\n",
    "\n",
    "        Args:\n",
    "            x: Training example inputs. Shape (m, n).\n",
    "            y: Training example labels. Shape (m,).\n",
    "        \"\"\"\n",
    "        # *** START CODE HERE ***\n",
    "        theta = self.theta.copy()\n",
    "        theta_transpose = np.transpose(theta)\n",
    "        eps = self.eps\n",
    "        m = len(x)\n",
    "        n = len(x[0])\n",
    "        e = math.e\n",
    "        eps_array = np.array([[eps] for i in range(n)])\n",
    "        keep_iter = True\n",
    "        while keep_iter:\n",
    "            sum_gradient = np.zeros([3,1])\n",
    "            sum_hessian = np.zeros([3,3])\n",
    "            for i in range(0, m):\n",
    "                x_i = np.array([x[i]]).T\n",
    "                y_i = y[i]\n",
    "                h_theta_x = 1 / (1 + e ** (- np.dot(theta_transpose, x_i)))\n",
    "                gradient = (y_i - h_theta_x) * x_i\n",
    "                hessian = (h_theta_x) * (1 - h_theta_x) * np.dot(x_i, (x_i.T))\n",
    "                sum_gradient += gradient\n",
    "                sum_hessian += hessian\n",
    "            sum_gradient = - (sum_gradient / m)\n",
    "            sum_hessian = sum_hessian / m \n",
    "            increment = np.dot(np.linalg.inv(sum_hessian), sum_gradient)\n",
    "            theta = theta - increment\n",
    "            theta_transpose = np.transpose(theta)\n",
    "            keep_iter = any((increment >= eps_array))\n",
    "        self.theta = theta\n",
    "        # *** END CODE HERE ***\n",
    "\n",
    "    def predict(self, x):\n",
    "        \"\"\"Make a prediction given new inputs x.\n",
    "\n",
    "        Args:\n",
    "            x: Inputs of shape (m, n).\n",
    "\n",
    "        Returns:\n",
    "            Outputs of shape (m,).\n",
    "        \"\"\"\n",
    "        # *** START CODE HERE ***\n",
    "        e = math.e\n",
    "        theta_transpose = np.transpose(self.theta)\n",
    "        m = len(x)\n",
    "        y_predict = np.zeros([m,])\n",
    "        for i in range(0, m):\n",
    "            x_i = np.array([x[i]]).T\n",
    "            h_theta_x = 1 / (1 + e ** (- np.dot(theta_transpose, x_i)))\n",
    "            y_predict[i] = round(h_theta_x[0][0],0)\n",
    "        return y_predict\n",
    "        # *** END CODE HERE ***\n"
   ]
  },
  {
   "cell_type": "code",
   "execution_count": 754,
   "metadata": {},
   "outputs": [],
   "source": [
    "clf = LogisticRegression()"
   ]
  },
  {
   "cell_type": "code",
   "execution_count": 755,
   "metadata": {},
   "outputs": [],
   "source": [
    "clf.theta = np.array([[0], [0], [0]])"
   ]
  },
  {
   "cell_type": "code",
   "execution_count": 756,
   "metadata": {},
   "outputs": [],
   "source": [
    "x_train, y_train, x_valid, y_valid = main('data/ds1_train.csv', 'data/ds1_valid.csv', 'whatever')"
   ]
  },
  {
   "cell_type": "code",
   "execution_count": 757,
   "metadata": {},
   "outputs": [],
   "source": [
    "clf.fit(x_train, y_train)"
   ]
  },
  {
   "cell_type": "code",
   "execution_count": 758,
   "metadata": {},
   "outputs": [],
   "source": [
    "y_pred = clf.predict(x_valid)"
   ]
  },
  {
   "cell_type": "code",
   "execution_count": 759,
   "metadata": {},
   "outputs": [
    {
     "data": {
      "text/plain": [
       "90.0"
      ]
     },
     "execution_count": 759,
     "metadata": {},
     "output_type": "execute_result"
    }
   ],
   "source": [
    "(np.array(np.where(y_valid - y_pred == 0)).shape[1] / y_valid.shape[0]) * 100 "
   ]
  }
 ],
 "metadata": {
  "kernelspec": {
   "display_name": "Python 3",
   "language": "python",
   "name": "python3"
  },
  "language_info": {
   "codemirror_mode": {
    "name": "ipython",
    "version": 3
   },
   "file_extension": ".py",
   "mimetype": "text/x-python",
   "name": "python",
   "nbconvert_exporter": "python",
   "pygments_lexer": "ipython3",
   "version": "3.7.6"
  }
 },
 "nbformat": 4,
 "nbformat_minor": 4
}
